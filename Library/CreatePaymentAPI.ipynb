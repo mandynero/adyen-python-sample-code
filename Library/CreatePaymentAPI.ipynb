{
 "cells": [
  {
   "cell_type": "markdown",
   "metadata": {
    "collapsed": true
   },
   "source": [
    "<h2>Create Payment through the API (Python Library)"
   ]
  },
  {
   "cell_type": "markdown",
   "metadata": {},
   "source": [
    "Payments can be created through our API, however this is only possible if you are PCI Compliant. Java Library payments\n",
    "are submitted using the authorise method. We will explain a simple credit card submission.\n",
    " \n",
    "Please note: using our API requires a web service user. Set up your Webservice user:\n",
    "Adyen CA >> Settings >> Users >> ws@Company. >> Generate Password >> Submit"
   ]
  },
  {
   "cell_type": "markdown",
   "metadata": {},
   "source": [
    "Client settings:\n",
    "- **Adyen.client**\n",
    "\t- *username*\t: your web service user\n",
    "\t- *password*\t: your web service user's password\n",
    "\t- *platform*\t: the environment you are using (test/live)\n",
    "\t- *app_name*\t: your application name"
   ]
  },
  {
   "cell_type": "code",
   "execution_count": null,
   "metadata": {},
   "outputs": [],
   "source": [
    "import Adyen\n",
    "ady = Adyen.Adyen()\n",
    "client = ady.client\n",
    "client.username = \"YourWSUser\"\n",
    "client.password = \"YourWSPassword\"\n",
    "client.platform = \"test\"\n",
    "client.app_name = \"Your unique app name, to identify the app with Adyen.\""
   ]
  },
  {
   "cell_type": "markdown",
   "metadata": {},
   "source": [
    "A payment can be submitted to the authorise method of the library with a request,\n",
    "containing the following variables:\n",
    "\t\n",
    "- merchantAccount\t: The merchant account for which you want to process the payment\n",
    "- amount\n",
    "\t- value\t\t: The transaction amount.\n",
    "\t- currency\t: The three character ISO currency code.\n",
    "- reference \t\t: Your reference for this payment.\n",
    "- ipAddress\t\t: The shopper's IP address. (recommended)\n",
    "- shopperEmail\t\t: The shopper's email address. (recommended)\n",
    "- shopperReference\t: An ID that uniquely identifes the shopper, such as a customer id. (recommended)\n",
    "- fraudOffset\t\t: An integer that is added to the normal fraud score. (optional)\n",
    "- card\n",
    "\t- number\t: The card number.\n",
    "\t- holderName\t: The card holder's name, as embossed on the card.\n",
    "\t- expiryMonth\t: The expiration date's month written as a 2-digit string, padded with 0 if required (e.g. 03 or 12).\n",
    "\t- expiryYear\t: The expiration date's year written as in full (e.g. 2016).\n",
    "\t- cvc \t\t: The card validation code, which is the CVC2 (MasterCard), CVV2 (Visa) or CID (American Express).\n",
    "- billingAddress (recommended)\n",
    "\t- street \t\t: The street name.\n",
    "\t- houseNumberOrName\t: The house number (or name).\n",
    "\t- city\t\t\t\t: The city.\n",
    "\t- postalCode\t\t: The postal/zip code.\n",
    "\t- stateOrProvince \t: The state or province.\n",
    "\t- country \t\t: The country in ISO 3166-1 alpha-2 format (e.g. NL)."
   ]
  },
  {
   "cell_type": "code",
   "execution_count": null,
   "metadata": {},
   "outputs": [],
   "source": [
    "request = {}\n",
    "request['merchantAccount'] = \"YourMerchantAccount\"\n",
    "request['amount'] = {\"value\":\"1234\",\"currency\":\"EUR\"}\n",
    "request['reference'] = \"YourReference\"\n",
    "request['card'] = {\n",
    "  \"number\":\"5136333333333335\",\n",
    "  \"expiryMonth\":\"08\",\n",
    "  \"expiryYear\": \"2018\",\n",
    "  \"cvc\": \"737\",\n",
    "  \"holderName\": \"John Smith\"\n",
    "}\n",
    "\n",
    "result = ady.payment.authorise(request)"
   ]
  },
  {
   "cell_type": "markdown",
   "metadata": {},
   "source": [
    "If the payment passes validation a risk analysis will be done and, depending on the outcome, an authorisation\n",
    "will be attempted. You receive a payment response with the following fields:\n",
    "- pspReference \t: Adyen's unique reference that is associated with the payment.\n",
    "- resultCode \t: The result of the payment. Possible values: Authorised, Refused, Error or Received.\n",
    "- authCode      : The authorisation code if the payment was successful. Blank otherwise.\n",
    "- refusalReason: Adyen's mapped refusal reason, populated if the payment was refused."
   ]
  },
  {
   "cell_type": "code",
   "execution_count": null,
   "metadata": {},
   "outputs": [],
   "source": [
    "print(\"Payment Result:\")\n",
    "print(\"- pspReference: \" + result.message['pspReference'])\n",
    "print(\"- resultCode: \" + result.message['resultCode'])\n",
    "print(\"- authCode: \" + result.message['authCode'])\n",
    "print(\"- refusalReason: \" + result.message['refusalReason'])"
   ]
  }
 ],
 "metadata": {
  "kernelspec": {
   "display_name": "Python 2",
   "language": "python",
   "name": "python2"
  },
  "language_info": {
   "codemirror_mode": {
    "name": "ipython",
    "version": 2.0
   },
   "file_extension": ".py",
   "mimetype": "text/x-python",
   "name": "python",
   "nbconvert_exporter": "python",
   "pygments_lexer": "ipython2",
   "version": "2.7.6"
  }
 },
 "nbformat": 4,
 "nbformat_minor": 0
}